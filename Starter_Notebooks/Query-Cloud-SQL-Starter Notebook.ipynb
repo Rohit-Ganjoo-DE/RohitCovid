{
 "cells": [
  {
   "cell_type": "markdown",
   "metadata": {},
   "source": [
    "##### Resources :\n",
    "https://www.datacamp.com/community/tutorials/beginners-introduction-postgresql#comments"
   ]
  },
  {
   "cell_type": "markdown",
   "metadata": {},
   "source": [
    "### Accessing a CloudSQL or Local database through your Python code Using SQLAlchemy\n",
    "https://docs.sqlalchemy.org/en/13/ <br>\n",
    "SQLAlchemy provides a more suitable engine to interface with your RDBMS.\n",
    "Supported Dialects :\n",
    "PostgreSQL | MySQL | SQLite | Oracle | Microsoft SQL Server"
   ]
  },
  {
   "cell_type": "markdown",
   "metadata": {},
   "source": [
    "### Connecting to Google Cloud SQL Server\n",
    "\n",
    "1. Connect to CloudSQL instance using CloudSQL proxy and SQL Alchemy.\n",
    "   * For GCP accounts with permission Cloud SQL > Client, Admin etc. \n",
    "   * cloud_sql_proxy needs to be running and set-up on your local machine.\n",
    "   * Lets the User update, modify the tables acc. to the permission given.\n",
    "   \n",
    "Refer : https://cloud.google.com/sql/docs/postgres/connect-external-app\n",
    "\n",
    "2. Get Access via public IP Access (Not recommended for production instances)\n",
    "   * Find your public IP using https://www.whatismyip.com/\n",
    "   * Get the public IP added to list of allowed IPs by someone with apt. CloudSQL Role.\n",
    "     ADD IP: CloudSQL-> covid19-data-server->Connections->Public IP -> Add network\n",
    "   * Receive CloudSQL Instance Public IP and your username, password.\n",
    "   * Use SQL Alchemy to connect."
   ]
  },
  {
   "cell_type": "code",
   "execution_count": 1,
   "metadata": {},
   "outputs": [],
   "source": [
    "from sqlalchemy import create_engine\n",
    "import pandas as pd"
   ]
  },
  {
   "cell_type": "code",
   "execution_count": 2,
   "metadata": {},
   "outputs": [],
   "source": [
    "# Credentials\n",
    "db_user = 'postgres'\n",
    "db_password = '***REMOVED***'\n",
    "cloud_sql_ip = '***REMOVED***'\n",
    "db_name = 'covid19-india'"
   ]
  },
  {
   "cell_type": "code",
   "execution_count": 3,
   "metadata": {},
   "outputs": [],
   "source": [
    "engine = create_engine(f'postgresql://{db_user}:{db_password}@{cloud_sql_ip}/{db_name}')"
   ]
  },
  {
   "cell_type": "markdown",
   "metadata": {},
   "source": [
    "### Query the Data and Analyse!\n",
    "<div>\n",
    "<img src=\"DB_ERD.png\" width=\"300\"/>\n",
    "</div>"
   ]
  },
  {
   "cell_type": "code",
   "execution_count": 4,
   "metadata": {},
   "outputs": [],
   "source": [
    "# Query data from the tables according to the ERD.\n",
    "states = pd.read_sql('SELECT * FROM states_info', engine , parse_dates = True, index_col ='Date')"
   ]
  },
  {
   "cell_type": "code",
   "execution_count": 5,
   "metadata": {},
   "outputs": [],
   "source": [
    "testing = pd.read_sql('SELECT * FROM testing_stats', engine , parse_dates = True, index_col ='Date')"
   ]
  },
  {
   "cell_type": "code",
   "execution_count": 6,
   "metadata": {},
   "outputs": [],
   "source": [
    "overall = pd.read_sql('SELECT * FROM overall_stats', engine, parse_dates = True, index_col ='Date')"
   ]
  },
  {
   "cell_type": "code",
   "execution_count": 7,
   "metadata": {},
   "outputs": [],
   "source": [
    "main_join = overall.join(testing, on = 'Date', how = 'left')"
   ]
  },
  {
   "cell_type": "code",
   "execution_count": 8,
   "metadata": {},
   "outputs": [
    {
     "data": {
      "text/html": [
       "<div>\n",
       "<style scoped>\n",
       "    .dataframe tbody tr th:only-of-type {\n",
       "        vertical-align: middle;\n",
       "    }\n",
       "\n",
       "    .dataframe tbody tr th {\n",
       "        vertical-align: top;\n",
       "    }\n",
       "\n",
       "    .dataframe thead th {\n",
       "        text-align: right;\n",
       "    }\n",
       "</style>\n",
       "<table border=\"1\" class=\"dataframe\">\n",
       "  <thead>\n",
       "    <tr style=\"text-align: right;\">\n",
       "      <th></th>\n",
       "      <th>DailyConfirmed</th>\n",
       "      <th>DailyDeceased</th>\n",
       "      <th>DailyRecovered</th>\n",
       "      <th>TotalConfirmed</th>\n",
       "      <th>TotalDeceased</th>\n",
       "      <th>TotalRecovered</th>\n",
       "      <th>TestingSamples</th>\n",
       "    </tr>\n",
       "    <tr>\n",
       "      <th>Date</th>\n",
       "      <th></th>\n",
       "      <th></th>\n",
       "      <th></th>\n",
       "      <th></th>\n",
       "      <th></th>\n",
       "      <th></th>\n",
       "      <th></th>\n",
       "    </tr>\n",
       "  </thead>\n",
       "  <tbody>\n",
       "    <tr>\n",
       "      <th>2020-01-30</th>\n",
       "      <td>1</td>\n",
       "      <td>0</td>\n",
       "      <td>0</td>\n",
       "      <td>1</td>\n",
       "      <td>0</td>\n",
       "      <td>0</td>\n",
       "      <td>NaN</td>\n",
       "    </tr>\n",
       "    <tr>\n",
       "      <th>2020-01-31</th>\n",
       "      <td>0</td>\n",
       "      <td>0</td>\n",
       "      <td>0</td>\n",
       "      <td>1</td>\n",
       "      <td>0</td>\n",
       "      <td>0</td>\n",
       "      <td>NaN</td>\n",
       "    </tr>\n",
       "    <tr>\n",
       "      <th>2020-02-01</th>\n",
       "      <td>0</td>\n",
       "      <td>0</td>\n",
       "      <td>0</td>\n",
       "      <td>1</td>\n",
       "      <td>0</td>\n",
       "      <td>0</td>\n",
       "      <td>NaN</td>\n",
       "    </tr>\n",
       "    <tr>\n",
       "      <th>2020-02-02</th>\n",
       "      <td>1</td>\n",
       "      <td>0</td>\n",
       "      <td>0</td>\n",
       "      <td>2</td>\n",
       "      <td>0</td>\n",
       "      <td>0</td>\n",
       "      <td>NaN</td>\n",
       "    </tr>\n",
       "    <tr>\n",
       "      <th>2020-02-03</th>\n",
       "      <td>1</td>\n",
       "      <td>0</td>\n",
       "      <td>0</td>\n",
       "      <td>3</td>\n",
       "      <td>0</td>\n",
       "      <td>0</td>\n",
       "      <td>NaN</td>\n",
       "    </tr>\n",
       "    <tr>\n",
       "      <th>...</th>\n",
       "      <td>...</td>\n",
       "      <td>...</td>\n",
       "      <td>...</td>\n",
       "      <td>...</td>\n",
       "      <td>...</td>\n",
       "      <td>...</td>\n",
       "      <td>...</td>\n",
       "    </tr>\n",
       "    <tr>\n",
       "      <th>2020-06-26</th>\n",
       "      <td>18255</td>\n",
       "      <td>381</td>\n",
       "      <td>10246</td>\n",
       "      <td>509448</td>\n",
       "      <td>15690</td>\n",
       "      <td>295918</td>\n",
       "      <td>7776228.0</td>\n",
       "    </tr>\n",
       "    <tr>\n",
       "      <th>2020-06-27</th>\n",
       "      <td>20142</td>\n",
       "      <td>414</td>\n",
       "      <td>14229</td>\n",
       "      <td>529590</td>\n",
       "      <td>16104</td>\n",
       "      <td>310147</td>\n",
       "      <td>7996707.0</td>\n",
       "    </tr>\n",
       "    <tr>\n",
       "      <th>2020-06-28</th>\n",
       "      <td>19610</td>\n",
       "      <td>384</td>\n",
       "      <td>11631</td>\n",
       "      <td>549200</td>\n",
       "      <td>16488</td>\n",
       "      <td>321778</td>\n",
       "      <td>8227802.0</td>\n",
       "    </tr>\n",
       "    <tr>\n",
       "      <th>2020-06-29</th>\n",
       "      <td>18339</td>\n",
       "      <td>417</td>\n",
       "      <td>13497</td>\n",
       "      <td>567539</td>\n",
       "      <td>16905</td>\n",
       "      <td>335275</td>\n",
       "      <td>8398362.0</td>\n",
       "    </tr>\n",
       "    <tr>\n",
       "      <th>2020-06-30</th>\n",
       "      <td>18256</td>\n",
       "      <td>506</td>\n",
       "      <td>12565</td>\n",
       "      <td>585795</td>\n",
       "      <td>17411</td>\n",
       "      <td>347840</td>\n",
       "      <td>8608654.0</td>\n",
       "    </tr>\n",
       "  </tbody>\n",
       "</table>\n",
       "<p>153 rows × 7 columns</p>\n",
       "</div>"
      ],
      "text/plain": [
       "            DailyConfirmed  DailyDeceased  DailyRecovered  TotalConfirmed  \\\n",
       "Date                                                                        \n",
       "2020-01-30               1              0               0               1   \n",
       "2020-01-31               0              0               0               1   \n",
       "2020-02-01               0              0               0               1   \n",
       "2020-02-02               1              0               0               2   \n",
       "2020-02-03               1              0               0               3   \n",
       "...                    ...            ...             ...             ...   \n",
       "2020-06-26           18255            381           10246          509448   \n",
       "2020-06-27           20142            414           14229          529590   \n",
       "2020-06-28           19610            384           11631          549200   \n",
       "2020-06-29           18339            417           13497          567539   \n",
       "2020-06-30           18256            506           12565          585795   \n",
       "\n",
       "            TotalDeceased  TotalRecovered  TestingSamples  \n",
       "Date                                                       \n",
       "2020-01-30              0               0             NaN  \n",
       "2020-01-31              0               0             NaN  \n",
       "2020-02-01              0               0             NaN  \n",
       "2020-02-02              0               0             NaN  \n",
       "2020-02-03              0               0             NaN  \n",
       "...                   ...             ...             ...  \n",
       "2020-06-26          15690          295918       7776228.0  \n",
       "2020-06-27          16104          310147       7996707.0  \n",
       "2020-06-28          16488          321778       8227802.0  \n",
       "2020-06-29          16905          335275       8398362.0  \n",
       "2020-06-30          17411          347840       8608654.0  \n",
       "\n",
       "[153 rows x 7 columns]"
      ]
     },
     "execution_count": 8,
     "metadata": {},
     "output_type": "execute_result"
    }
   ],
   "source": [
    "main_join"
   ]
  },
  {
   "cell_type": "code",
   "execution_count": 31,
   "metadata": {},
   "outputs": [
    {
     "data": {
      "text/plain": [
       "<matplotlib.axes._subplots.AxesSubplot at 0x11ca47630>"
      ]
     },
     "execution_count": 31,
     "metadata": {},
     "output_type": "execute_result"
    },
    {
     "data": {
      "image/png": "[encoded data removed]",
      "text/plain": [
       "<Figure size 864x432 with 1 Axes>"
      ]
     },
     "metadata": {
      "needs_background": "light"
     },
     "output_type": "display_data"
    }
   ],
   "source": [
    "main_join['DailyConfirmed'].plot(figsize = (12,6), title = 'Daily New Confirmed Covid19 Cases in India')"
   ]
  }
 ],
 "metadata": {
  "gist": {
   "data": {
    "description": "Data_ingestion.ipynb",
    "public": true
   },
   "id": ""
  },
  "kernelspec": {
   "display_name": "Python 3",
   "language": "python",
   "name": "python3"
  },
  "language_info": {
   "codemirror_mode": {
    "name": "ipython",
    "version": 3
   },
   "file_extension": ".py",
   "mimetype": "text/x-python",
   "name": "python",
   "nbconvert_exporter": "python",
   "pygments_lexer": "ipython3",
   "version": "3.6.4"
  },
  "pycharm": {
   "stem_cell": {
    "cell_type": "raw",
    "metadata": {
     "collapsed": false
    },
    "source": []
   }
  }
 },
 "nbformat": 4,
 "nbformat_minor": 2
}
